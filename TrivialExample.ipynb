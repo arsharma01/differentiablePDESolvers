{
 "cells": [
  {
   "cell_type": "code",
   "execution_count": 41,
   "metadata": {},
   "outputs": [],
   "source": [
    "import jax\n",
    "import jax.numpy as jnp\n",
    "import matplotlib.pyplot as plt\n",
    "import numpy as np\n",
    "import math\n",
    "import time\n",
    "# import plotly.graph_objs as go"
   ]
  },
  {
   "cell_type": "code",
   "execution_count": 11,
   "metadata": {},
   "outputs": [
    {
     "name": "stdout",
     "output_type": "stream",
     "text": [
      "2\n"
     ]
    }
   ],
   "source": [
    "print(jnp.argmin(jnp.array([1,1,0,1])))"
   ]
  },
  {
   "cell_type": "code",
   "execution_count": 42,
   "metadata": {},
   "outputs": [],
   "source": [
    "def largest_circle(x,y):\n",
    "    return min(x,y,1-x,1-y)\n",
    "\n",
    "# our 'h' function on the boundary\n",
    "def boundary_function(x,y,z):\n",
    "    # for sufficiently small eps, we can make this approximation\n",
    "    index = jnp.argmin( jnp.array([x,y,1-x,1-y]) )\n",
    "    if index == 1:\n",
    "        return z\n",
    "    else:\n",
    "        return 0\n",
    "\n",
    "# numpy version\n",
    "# # given center x,y and radius r, return a random point on the circle boundary\n",
    "def rand_point(x,y,r):\n",
    "    theta = np.random.uniform(0, 2 * jnp.pi)\n",
    "    # Convert spherical coordinates to Cartesian coordinates\n",
    "    return x + jnp.cos(theta) * r, y + jnp.sin(theta) * r\n",
    "\n",
    "# jax version\n",
    "# given center x,y and radius r, return a random point on the circle boundary\n",
    "# key_index = 0\n",
    "# def rand_point(x,y,r):\n",
    "#     key = jax.random.PRNGKey(key_index) \n",
    "#     theta = jax.random.uniform(key, minval=0, maxval=2*jnp.pi)\n",
    "#     key_index += 1\n",
    "#     # Convert spherical coordinates to Cartesian coordinates\n",
    "#     return x + jnp.cos(theta) * r, y + jnp.sin(theta) * r"
   ]
  },
  {
   "cell_type": "code",
   "execution_count": 35,
   "metadata": {},
   "outputs": [
    {
     "name": "stdout",
     "output_type": "stream",
     "text": [
      "1.0255733\n"
     ]
    }
   ],
   "source": [
    "# print(boundary_function(0.1,0.3,3))\n",
    "key_index = 0\n",
    "key = jax.random.PRNGKey(key_index)\n",
    "# Generate a random number between 0 and 2*pi\n",
    "random_number = jax.random.uniform(key, minval=0, maxval=2*jnp.pi)\n",
    "print(random_number)"
   ]
  },
  {
   "cell_type": "code",
   "execution_count": 36,
   "metadata": {},
   "outputs": [
    {
     "name": "stdout",
     "output_type": "stream",
     "text": [
      "[  0 100]\n"
     ]
    }
   ],
   "source": [
    "print(key)"
   ]
  },
  {
   "cell_type": "code",
   "execution_count": 2,
   "metadata": {},
   "outputs": [],
   "source": [
    "\n",
    "# our 'h' function on the boundary\n",
    "def boundary_function(x,y,z):\n",
    "    # for sufficiently small eps, we can make this approximation\n",
    "    index = jnp.argmin( jnp.array([x,y,1-x,1-y]) )\n",
    "    if index == 1:\n",
    "        return z\n",
    "    else:\n",
    "        return 0\n",
    "    \n",
    "    # our 'h' function on the boundary\n",
    "def boundary_function_grad(x,y,z):\n",
    "    # for sufficiently small eps, we can make this approximation\n",
    "    index = jnp.argmin( jnp.array([x,y,1-x,1-y]) )\n",
    "    if index == 1:\n",
    "        return 1\n",
    "    else:\n",
    "        return 0\n",
    "\n",
    "def solve(x = 1/4,y = 1/4, z=0, eps = 1e-4,max_iters = 10000):   \n",
    "    running_function_value = 0\n",
    "    # walk on spheres\n",
    "    for _ in range(max_iters):\n",
    "        x_new,y_new = x,y \n",
    "        r_max = min(x,y,1-x,1-y)\n",
    "        # check point is outisde eps distance from boundary\n",
    "        while  r_max> eps:\n",
    "            # pick random point on circle \n",
    "            x_new,y_new = rand_point(x_new,y_new, r_max)\n",
    "            # calculate the largest circle that will fit in domain\n",
    "            r_max = min(x_new,y_new,1-x_new,1-y_new)\n",
    "            \n",
    "        running_function_value += boundary_function( x_new, y_new, z)\n",
    "\n",
    "    #taking mean\n",
    "    numerical_value = running_function_value/max_iters\n",
    "    return numerical_value\n",
    "\n",
    "def grad_solve(x_init = 1/4,y_init = 1/4, z=1, eps = 1e-4,max_iters = 10000):\n",
    "    running_function_value = 0\n",
    "    # walk on spheres\n",
    "    for _ in range(max_iters):\n",
    "        x_new,y_new = x_init,y_init \n",
    "        r_max = min(x_new,y_new,1-x_new,1-y_new)\n",
    "        # check point is outisde eps distance from boundary\n",
    "        while  r_max> eps:\n",
    "            # pick random point on circle \n",
    "            x_new,y_new = rand_point(x_new,y_new, r_max)\n",
    "            # calculate the largest circle that will fit in domain\n",
    "            r_max = min(x_new,y_new,1-x_new,1-y_new)\n",
    "            \n",
    "        running_function_value += boundary_function_grad( x_new, y_new, z)\n",
    "\n",
    "    #taking mean\n",
    "    numerical_value = running_function_value/max_iters\n",
    "    return numerical_value"
   ]
  },
  {
   "cell_type": "code",
   "execution_count": 65,
   "metadata": {},
   "outputs": [
    {
     "name": "stdout",
     "output_type": "stream",
     "text": [
      "4.342\n",
      "4.293\n",
      "Gradient of function at x=10.0 is 0.4334793984889984\n"
     ]
    }
   ],
   "source": [
    "# checking solve\n",
    "def f(z):\n",
    "    return solve(z=z)\n",
    "solution1 = solve(z =10)\n",
    "print(solution1)\n",
    "\n",
    "solution2 = f(10.0)\n",
    "print(solution2)\n",
    "\n",
    "# Compute the gradient of f with respect to x\n",
    "grad_f = jax.grad(f)\n",
    "\n",
    "# Evaluate the gradient at a specific point, e.g., x = 0\n",
    "x = 10.0\n",
    "gradient_value = grad_f(x)\n",
    "\n",
    "print(f'Gradient of function at x={x} is {gradient_value}')"
   ]
  },
  {
   "cell_type": "code",
   "execution_count": 62,
   "metadata": {},
   "outputs": [
    {
     "name": "stdout",
     "output_type": "stream",
     "text": [
      "0.45199773\n",
      "0.43599793\n",
      "0.4149982\n",
      "0.429998\n",
      "0.41899815\n",
      "0.4619976\n",
      "0.44299784\n",
      "0.429998\n",
      "0.4149982\n",
      "0.4529977\n"
     ]
    }
   ],
   "source": [
    "for _ in range(10):\n",
    "    print(grad_f(10.0))"
   ]
  },
  {
   "cell_type": "code",
   "execution_count": 60,
   "metadata": {},
   "outputs": [
    {
     "name": "stdout",
     "output_type": "stream",
     "text": [
      "gradient is -18.079499999995495\n"
     ]
    }
   ],
   "source": [
    "epsi = 1e-2\n",
    "# u_eps = 1e-16\n",
    "# epsi = 10*jnp.sqrt(u_eps)\n",
    "x_0 = f(z = 10-epsi)\n",
    "x_1 = f(z = 10+epsi)\n",
    "print(f\"gradient is {(x_1-x_0)/(2*epsi)}\")"
   ]
  },
  {
   "cell_type": "code",
   "execution_count": 61,
   "metadata": {},
   "outputs": [
    {
     "name": "stdout",
     "output_type": "stream",
     "text": [
      "4.37\n",
      "4.599\n",
      "4.983\n"
     ]
    }
   ],
   "source": [
    "print(f(z = 10))\n",
    "print(f(z = 10.5))\n",
    "print(f(z = 11))"
   ]
  },
  {
   "cell_type": "code",
   "execution_count": 63,
   "metadata": {},
   "outputs": [
    {
     "name": "stdout",
     "output_type": "stream",
     "text": [
      "0.6129999999999995\n"
     ]
    }
   ],
   "source": [
    "print(4.983-4.37)"
   ]
  }
 ],
 "metadata": {
  "kernelspec": {
   "display_name": "su2024",
   "language": "python",
   "name": "python3"
  },
  "language_info": {
   "codemirror_mode": {
    "name": "ipython",
    "version": 3
   },
   "file_extension": ".py",
   "mimetype": "text/x-python",
   "name": "python",
   "nbconvert_exporter": "python",
   "pygments_lexer": "ipython3",
   "version": "3.12.3"
  }
 },
 "nbformat": 4,
 "nbformat_minor": 2
}
