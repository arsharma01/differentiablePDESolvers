{
 "cells": [
  {
   "cell_type": "code",
   "execution_count": 6,
   "metadata": {},
   "outputs": [],
   "source": [
    "# import statements\n",
    "import jax\n",
    "import matplotlib.pyplot as plt\n",
    "import math\n",
    "import time\n",
    "import numpy as np\n",
    "import plotly.graph_objs as go\n",
    "import jax.numpy as jnp"
   ]
  },
  {
   "cell_type": "code",
   "execution_count": 44,
   "metadata": {},
   "outputs": [],
   "source": [
    "# our 'h' function on the boundary\n",
    "def boundary_function(x,y,z):\n",
    "    # for sufficiently small eps, we can make this approximation\n",
    "    index = jnp.argmin( jnp.array([x,y,1-x,1-y]) )\n",
    "    if index == 1:\n",
    "        return z\n",
    "    else:\n",
    "        return 0\n",
    "    \n",
    "# gradient our 'h' function on the boundary\n",
    "def boundary_function_grad(x,y,z):\n",
    "    # for sufficiently small eps, we can make this approximation\n",
    "    index = jnp.argmin( jnp.array([x,y,1-x,1-y]) )\n",
    "    if index == 1:\n",
    "        return 1\n",
    "    else:\n",
    "        return 0\n",
    "\n",
    "# solves for u at specified x,y and temperature z using walk on spheres\n",
    "def solve(x = 1/4,y = 1/4, z=0, eps = 1e-4,max_iters = 500):   \n",
    "    running_function_value = 0\n",
    "    running_gradient_value = 0\n",
    "    # walk on spheres\n",
    "    for _ in range(max_iters):\n",
    "        x_new,y_new = x,y \n",
    "        r_max = min(x_new,y_new,1-x_new,1-y_new)\n",
    "        # check point is outisde eps distance from boundary\n",
    "        while  r_max> eps:\n",
    "            # pick random point on circle \n",
    "            theta = np.random.uniform(0, 2 * jnp.pi)\n",
    "            x_new = x_new + jnp.cos(theta) * r_max\n",
    "            y_new = y_new + jnp.sin(theta) * r_max\n",
    "            # calculate the largest circle that will fit in domain\n",
    "            r_max = min(x_new,y_new,1-x_new,1-y_new)\n",
    "            \n",
    "        running_function_value += boundary_function( x_new, y_new, z)\n",
    "        running_gradient_value += boundary_function_grad( x_new, y_new, z)\n",
    "\n",
    "    #taking mean\n",
    "    numerical_value = running_function_value/max_iters\n",
    "    numerical_grad_value = running_gradient_value/max_iters\n",
    "    return [numerical_value, numerical_grad_value]\n",
    "\n",
    "# WoS for gradient\n",
    "def grad_solve(x_init = 1/4,y_init = 1/4, z=1, eps = 1e-4,max_iters = 1000):\n",
    "    running_function_value = 0\n",
    "    # walk on spheres\n",
    "    for _ in range(max_iters):\n",
    "        x_new,y_new = x_init,y_init \n",
    "        r_max = min(x_new,y_new,1-x_new,1-y_new)\n",
    "        # check point is outisde eps distance from boundary\n",
    "        while  r_max> eps:\n",
    "            # pick random point on circle \n",
    "            theta = np.random.uniform(0, 2 * jnp.pi)\n",
    "            x_new = x_new + jnp.cos(theta) * r_max\n",
    "            y_new = y_new + jnp.sin(theta) * r_max\n",
    "            # calculate the largest circle that will fit in domain\n",
    "            r_max = min(x_new,y_new,1-x_new,1-y_new)\n",
    "                        \n",
    "        running_function_value += boundary_function_grad( x_new, y_new, z)\n",
    "\n",
    "    #taking mean\n",
    "    numerical_value = running_function_value/max_iters\n",
    "    return numerical_value"
   ]
  },
  {
   "cell_type": "code",
   "execution_count": 34,
   "metadata": {},
   "outputs": [
    {
     "name": "stdout",
     "output_type": "stream",
     "text": [
      "4.18\n"
     ]
    }
   ],
   "source": [
    "print(solve(z=10.0, max_iters= 500))"
   ]
  },
  {
   "cell_type": "code",
   "execution_count": 26,
   "metadata": {},
   "outputs": [
    {
     "name": "stdout",
     "output_type": "stream",
     "text": [
      "4.278\n",
      "4.319\n"
     ]
    },
    {
     "ename": "KeyboardInterrupt",
     "evalue": "",
     "output_type": "error",
     "traceback": [
      "\u001b[1;31m---------------------------------------------------------------------------\u001b[0m",
      "\u001b[1;31mKeyboardInterrupt\u001b[0m                         Traceback (most recent call last)",
      "Cell \u001b[1;32mIn[26], line 16\u001b[0m\n\u001b[0;32m     14\u001b[0m z \u001b[38;5;241m=\u001b[39m \u001b[38;5;241m10.0\u001b[39m\n\u001b[0;32m     15\u001b[0m gradient_value \u001b[38;5;241m=\u001b[39m grad_f(z)\n\u001b[1;32m---> 16\u001b[0m grad_value_wos \u001b[38;5;241m=\u001b[39m \u001b[43mgrad_solve\u001b[49m\u001b[43m(\u001b[49m\u001b[43mz\u001b[49m\u001b[43m \u001b[49m\u001b[38;5;241;43m=\u001b[39;49m\u001b[43m \u001b[49m\u001b[43mz\u001b[49m\u001b[43m)\u001b[49m\n\u001b[0;32m     18\u001b[0m \u001b[38;5;28mprint\u001b[39m(\u001b[38;5;124mf\u001b[39m\u001b[38;5;124m'\u001b[39m\u001b[38;5;124mGradient of function at z=\u001b[39m\u001b[38;5;132;01m{\u001b[39;00mz\u001b[38;5;132;01m}\u001b[39;00m\u001b[38;5;124m is \u001b[39m\u001b[38;5;132;01m{\u001b[39;00mgradient_value\u001b[38;5;132;01m}\u001b[39;00m\u001b[38;5;124m'\u001b[39m)\n\u001b[0;32m     19\u001b[0m \u001b[38;5;28mprint\u001b[39m(\u001b[38;5;124mf\u001b[39m\u001b[38;5;124m'\u001b[39m\u001b[38;5;124mGradient using WoS  at z=\u001b[39m\u001b[38;5;132;01m{\u001b[39;00mz\u001b[38;5;132;01m}\u001b[39;00m\u001b[38;5;124m is \u001b[39m\u001b[38;5;132;01m{\u001b[39;00mgradient_value\u001b[38;5;132;01m}\u001b[39;00m\u001b[38;5;124m'\u001b[39m)\n",
      "Cell \u001b[1;32mIn[25], line 57\u001b[0m, in \u001b[0;36mgrad_solve\u001b[1;34m(x_init, y_init, z, eps, max_iters)\u001b[0m\n\u001b[0;32m     54\u001b[0m         \u001b[38;5;66;03m# calculate the largest circle that will fit in domain\u001b[39;00m\n\u001b[0;32m     55\u001b[0m         r_max \u001b[38;5;241m=\u001b[39m \u001b[38;5;28mmin\u001b[39m(x_new,y_new,\u001b[38;5;241m1\u001b[39m\u001b[38;5;241m-\u001b[39mx_new,\u001b[38;5;241m1\u001b[39m\u001b[38;5;241m-\u001b[39my_new)\n\u001b[1;32m---> 57\u001b[0m     running_function_value \u001b[38;5;241m+\u001b[39m\u001b[38;5;241m=\u001b[39m \u001b[43mboundary_function_grad\u001b[49m\u001b[43m(\u001b[49m\u001b[43m \u001b[49m\u001b[43mx_new\u001b[49m\u001b[43m,\u001b[49m\u001b[43m \u001b[49m\u001b[43my_new\u001b[49m\u001b[43m,\u001b[49m\u001b[43m \u001b[49m\u001b[43mz\u001b[49m\u001b[43m)\u001b[49m\n\u001b[0;32m     59\u001b[0m \u001b[38;5;66;03m#taking mean\u001b[39;00m\n\u001b[0;32m     60\u001b[0m numerical_value \u001b[38;5;241m=\u001b[39m running_function_value\u001b[38;5;241m/\u001b[39mmax_iters\n",
      "Cell \u001b[1;32mIn[25], line 13\u001b[0m, in \u001b[0;36mboundary_function_grad\u001b[1;34m(x, y, z)\u001b[0m\n\u001b[0;32m     11\u001b[0m \u001b[38;5;28;01mdef\u001b[39;00m \u001b[38;5;21mboundary_function_grad\u001b[39m(x,y,z):\n\u001b[0;32m     12\u001b[0m     \u001b[38;5;66;03m# for sufficiently small eps, we can make this approximation\u001b[39;00m\n\u001b[1;32m---> 13\u001b[0m     index \u001b[38;5;241m=\u001b[39m jnp\u001b[38;5;241m.\u001b[39margmin( \u001b[43mjnp\u001b[49m\u001b[38;5;241;43m.\u001b[39;49m\u001b[43marray\u001b[49m\u001b[43m(\u001b[49m\u001b[43m[\u001b[49m\u001b[43mx\u001b[49m\u001b[43m,\u001b[49m\u001b[43my\u001b[49m\u001b[43m,\u001b[49m\u001b[38;5;241;43m1\u001b[39;49m\u001b[38;5;241;43m-\u001b[39;49m\u001b[43mx\u001b[49m\u001b[43m,\u001b[49m\u001b[38;5;241;43m1\u001b[39;49m\u001b[38;5;241;43m-\u001b[39;49m\u001b[43my\u001b[49m\u001b[43m]\u001b[49m\u001b[43m)\u001b[49m )\n\u001b[0;32m     14\u001b[0m     \u001b[38;5;28;01mif\u001b[39;00m index \u001b[38;5;241m==\u001b[39m \u001b[38;5;241m1\u001b[39m:\n\u001b[0;32m     15\u001b[0m         \u001b[38;5;28;01mreturn\u001b[39;00m \u001b[38;5;241m1\u001b[39m\n",
      "File \u001b[1;32mc:\\Users\\aaysh\\anaconda3\\envs\\su2024\\Lib\\site-packages\\jax\\_src\\numpy\\lax_numpy.py:3078\u001b[0m, in \u001b[0;36marray\u001b[1;34m(object, dtype, copy, order, ndmin)\u001b[0m\n\u001b[0;32m   3075\u001b[0m \u001b[38;5;28;01melse\u001b[39;00m:\n\u001b[0;32m   3076\u001b[0m   \u001b[38;5;28;01mraise\u001b[39;00m \u001b[38;5;167;01mTypeError\u001b[39;00m(\u001b[38;5;124mf\u001b[39m\u001b[38;5;124m\"\u001b[39m\u001b[38;5;124mUnexpected input type for array: \u001b[39m\u001b[38;5;132;01m{\u001b[39;00m\u001b[38;5;28mtype\u001b[39m(\u001b[38;5;28mobject\u001b[39m)\u001b[38;5;132;01m}\u001b[39;00m\u001b[38;5;124m\"\u001b[39m)\n\u001b[1;32m-> 3078\u001b[0m out_array: Array \u001b[38;5;241m=\u001b[39m \u001b[43mlax_internal\u001b[49m\u001b[38;5;241;43m.\u001b[39;49m\u001b[43m_convert_element_type\u001b[49m\u001b[43m(\u001b[49m\n\u001b[0;32m   3079\u001b[0m \u001b[43m    \u001b[49m\u001b[43mout\u001b[49m\u001b[43m,\u001b[49m\u001b[43m \u001b[49m\u001b[43mdtype\u001b[49m\u001b[43m,\u001b[49m\u001b[43m \u001b[49m\u001b[43mweak_type\u001b[49m\u001b[38;5;241;43m=\u001b[39;49m\u001b[43mweak_type\u001b[49m\u001b[43m)\u001b[49m\n\u001b[0;32m   3080\u001b[0m \u001b[38;5;28;01mif\u001b[39;00m ndmin \u001b[38;5;241m>\u001b[39m ndim(out_array):\n\u001b[0;32m   3081\u001b[0m   out_array \u001b[38;5;241m=\u001b[39m lax\u001b[38;5;241m.\u001b[39mexpand_dims(out_array, \u001b[38;5;28mrange\u001b[39m(ndmin \u001b[38;5;241m-\u001b[39m ndim(out_array)))\n",
      "File \u001b[1;32mc:\\Users\\aaysh\\anaconda3\\envs\\su2024\\Lib\\site-packages\\jax\\_src\\lax\\lax.py:519\u001b[0m, in \u001b[0;36m_convert_element_type\u001b[1;34m(operand, new_dtype, weak_type)\u001b[0m\n\u001b[0;32m    503\u001b[0m \u001b[38;5;250m  \u001b[39m\u001b[38;5;124;03m\"\"\"Elementwise cast.\u001b[39;00m\n\u001b[0;32m    504\u001b[0m \n\u001b[0;32m    505\u001b[0m \u001b[38;5;124;03m  Wraps XLA's `ConvertElementType\u001b[39;00m\n\u001b[1;32m   (...)\u001b[0m\n\u001b[0;32m    515\u001b[0m \u001b[38;5;124;03m    An array with the same shape as `operand`, cast elementwise to `new_dtype`.\u001b[39;00m\n\u001b[0;32m    516\u001b[0m \u001b[38;5;124;03m  \"\"\"\u001b[39;00m\n\u001b[0;32m    517\u001b[0m   \u001b[38;5;28;01mreturn\u001b[39;00m _convert_element_type(operand, new_dtype, weak_type\u001b[38;5;241m=\u001b[39m\u001b[38;5;28;01mFalse\u001b[39;00m)\n\u001b[1;32m--> 519\u001b[0m \u001b[38;5;28;01mdef\u001b[39;00m \u001b[38;5;21m_convert_element_type\u001b[39m(operand: ArrayLike, new_dtype: DTypeLike \u001b[38;5;241m|\u001b[39m \u001b[38;5;28;01mNone\u001b[39;00m \u001b[38;5;241m=\u001b[39m \u001b[38;5;28;01mNone\u001b[39;00m,\n\u001b[0;32m    520\u001b[0m                           weak_type: \u001b[38;5;28mbool\u001b[39m \u001b[38;5;241m=\u001b[39m \u001b[38;5;28;01mFalse\u001b[39;00m):\n\u001b[0;32m    521\u001b[0m   \u001b[38;5;28;01mif\u001b[39;00m \u001b[38;5;28mhasattr\u001b[39m(operand, \u001b[38;5;124m'\u001b[39m\u001b[38;5;124m__jax_array__\u001b[39m\u001b[38;5;124m'\u001b[39m):\n\u001b[0;32m    522\u001b[0m     operand \u001b[38;5;241m=\u001b[39m operand\u001b[38;5;241m.\u001b[39m__jax_array__()\n",
      "\u001b[1;31mKeyboardInterrupt\u001b[0m: "
     ]
    }
   ],
   "source": [
    "# checking solve\n",
    "def f(z):\n",
    "    return solve(z=z)\n",
    "solution1 = solve(z =10.0)\n",
    "print(solution1)\n",
    "\n",
    "solution2 = f(10.0)\n",
    "print(solution2)\n",
    "\n",
    "# Compute the gradient of f with respect to x\n",
    "grad_f = jax.grad(f)\n",
    "\n",
    "# Evaluate the gradient at a specific point, e.g., x = 0\n",
    "z = 10.0\n",
    "gradient_value = grad_f(z)\n",
    "grad_value_wos = grad_solve(z = z)\n",
    "\n",
    "print(f'Gradient of function at z={z} is {gradient_value}')\n",
    "print(f'Gradient using WoS  at z={z} is {gradient_value}')"
   ]
  },
  {
   "cell_type": "code",
   "execution_count": 55,
   "metadata": {},
   "outputs": [],
   "source": [
    "# consider the unit square with temperature z at the x-axis. \n",
    "# sequential search for unit square\n",
    "def seq_search(target_temp = 15, heater_low = 0, heater_high= 100, error_min = 0.1):\n",
    "    errors_low = []\n",
    "    errors_high = []\n",
    "    count = 0\n",
    "    # initial\n",
    "    temp_low = solve(z = heater_low)[0]\n",
    "    low_error =np.abs(temp_low - target_temp) \n",
    "    errors_low.append(low_error)\n",
    "\n",
    "    temp_high = solve(z = heater_high)[0]\n",
    "    high_error =np.abs(temp_high - target_temp) \n",
    "    errors_high.append(high_error)\n",
    "\n",
    "    if target_temp<temp_low or target_temp>temp_high:\n",
    "        print(f\"Initial heater settings are insufficent\")\n",
    "        print(f\"Initial temperatures are: {temp_low} and {temp_high}\")\n",
    "        print(\"Please readjust\")\n",
    "        return\n",
    "    #success\n",
    "    if low_error< error_min:\n",
    "        return heater_low       \n",
    "    if high_error< error_min:\n",
    "        return heater_high\n",
    "    \n",
    "    count+=1\n",
    "    \n",
    "    # repeat\n",
    "    while count <=2 or jnp.abs(errors_low[-1] - errors_low[-2])/errors_low[-1] > error_min or jnp.abs(errors_low[-1] - errors_low[-2])/errors_low[-1] > error_min:\n",
    "           \n",
    "        # if closer to lower temperature\n",
    "        if low_error < high_error:\n",
    "            heater_high = (heater_high+heater_low)/2\n",
    "            temp_high = solve(z = heater_high)[0]\n",
    "            high_error =np.abs(temp_high - target_temp) \n",
    "            errors_high.append(high_error)\n",
    "            if high_error< error_min:\n",
    "                return heater_high\n",
    "        # if closer to higher temperature\n",
    "        else:\n",
    "            heater_low = (heater_high+heater_low)/2\n",
    "            temp_low = solve(z = heater_low)[0]\n",
    "            low_error =np.abs(temp_low - target_temp) \n",
    "            errors_low.append(low_error)\n",
    "            if low_error< error_min:\n",
    "                return heater_low\n",
    "            \n",
    "        count += 1\n",
    "        if count%10 == 0:\n",
    "            print(f\"Iter: {count}, error_low: {low_error}, error_low:{high_error}\")\n",
    "            print(f\"temp_low: {heater_low}, temp_high:{heater_high}\")\n",
    "\n",
    "        print(f\"Iter: {count}, error_low: {low_error}, error_low:{high_error}\")\n",
    "        print(f\"temp_low: {temp_low}, temp_high:{temp_high}\")\n",
    "        print(f\"heater_low: {heater_low}, heater_high:{heater_high}\")\n",
    "\n",
    "\n",
    "    print(\"we reach final step\")\n",
    "    if errors_low[-1] < errors_high[-1]:\n",
    "        return heater_low\n",
    "    else:\n",
    "        return heater_high\n",
    "        "
   ]
  },
  {
   "cell_type": "code",
   "execution_count": 57,
   "metadata": {},
   "outputs": [
    {
     "name": "stdout",
     "output_type": "stream",
     "text": [
      "Iter: 2, error_low: 3.9499999999999993, error_low:5.199999999999999\n",
      "temp_low: 11.05, temp_high:20.2\n",
      "heater_low: 25.0, heater_high:50\n",
      "Iter: 3, error_low: 3.9499999999999993, error_low:2.1000000000000014\n",
      "temp_low: 11.05, temp_high:17.1\n",
      "heater_low: 25.0, heater_high:37.5\n",
      "Iter: 4, error_low: 1.625, error_low:2.1000000000000014\n",
      "temp_low: 13.375, temp_high:17.1\n",
      "heater_low: 31.25, heater_high:37.5\n",
      "Iter: 5, error_low: 1.625, error_low:0.9749999999999996\n",
      "temp_low: 13.375, temp_high:14.025\n",
      "heater_low: 31.25, heater_high:34.375\n",
      "Iter: 6, error_low: 2.4656249999999993, error_low:0.9749999999999996\n",
      "temp_low: 12.534375, temp_high:14.025\n",
      "heater_low: 32.8125, heater_high:34.375\n",
      "Iter: 7, error_low: 2.234375, error_low:0.9749999999999996\n",
      "temp_low: 12.765625, temp_high:14.025\n",
      "heater_low: 33.59375, heater_high:34.375\n",
      "Iter: 8, error_low: 0.4968749999999993, error_low:0.9749999999999996\n",
      "temp_low: 15.496875, temp_high:14.025\n",
      "heater_low: 33.984375, heater_high:34.375\n",
      "Iter: 9, error_low: 0.4968749999999993, error_low:0.72265625\n",
      "temp_low: 15.496875, temp_high:15.72265625\n",
      "heater_low: 33.984375, heater_high:34.1796875\n",
      "Iter: 10, error_low: 0.4968749999999993, error_low:1.5638671875000014\n",
      "temp_low: 33.984375, temp_high:34.08203125\n",
      "Iter: 10, error_low: 0.4968749999999993, error_low:1.5638671875000014\n",
      "temp_low: 15.496875, temp_high:16.5638671875\n",
      "heater_low: 33.984375, heater_high:34.08203125\n",
      "Iter: 11, error_low: 0.4968749999999993, error_low:1.2678710937499993\n",
      "temp_low: 15.496875, temp_high:16.26787109375\n",
      "heater_low: 33.984375, heater_high:34.033203125\n",
      "Iter: 12, error_low: 0.4968749999999993, error_low:0.64404296875\n",
      "temp_low: 15.496875, temp_high:15.64404296875\n",
      "heater_low: 33.984375, heater_high:34.0087890625\n",
      "Iter: 13, error_low: 0.4968749999999993, error_low:1.1973876953125\n",
      "temp_low: 15.496875, temp_high:13.8026123046875\n",
      "heater_low: 33.984375, heater_high:33.99658203125\n"
     ]
    }
   ],
   "source": [
    "z_optim = seq_search(15,0,50,0.1)"
   ]
  },
  {
   "cell_type": "code",
   "execution_count": 52,
   "metadata": {},
   "outputs": [
    {
     "name": "stdout",
     "output_type": "stream",
     "text": [
      "35.9375\n"
     ]
    }
   ],
   "source": [
    "print(z_optim)"
   ]
  },
  {
   "cell_type": "code",
   "execution_count": 54,
   "metadata": {},
   "outputs": [
    {
     "name": "stdout",
     "output_type": "stream",
     "text": [
      "[15.95625, 0.444]\n"
     ]
    }
   ],
   "source": [
    "print(solve(z = z_optim, max_iters=1000 ))"
   ]
  },
  {
   "cell_type": "code",
   "execution_count": 66,
   "metadata": {},
   "outputs": [
    {
     "name": "stdout",
     "output_type": "stream",
     "text": [
      "Iteration 1: function value = 14.1, z = 30.0423\n",
      "Iteration 2: function value = 12.13708920000002, z = 30.15796159632\n",
      "Iteration 3: function value = 12.36476425449123, z = 30.26600626188586\n",
      "Iteration 4: function value = 13.80129885541997, z = 30.32066703407871\n",
      "Iteration 5: function value = 13.28045216092648, z = 30.39598322943013\n",
      "Iteration 6: function value = 13.67819245324358, z = 30.455464569034167\n",
      "Iteration 7: function value = 13.339493481236946, z = 30.528194754555987\n",
      "Iteration 8: function value = 12.455503459858877, z = 30.632010213393745\n",
      "Iteration 9: function value = 12.865444289625406, z = 30.721661553229477\n",
      "Iteration 10: function value = 12.411551267504727, z = 30.826234882022288\n",
      "Iteration 11: function value = 13.255280999269628, z = 30.901257799053692\n",
      "Iteration 12: function value = 12.607713182013876, z = 30.998863101227524\n",
      "Iteration 13: function value = 14.073483847957274, z = 31.040926934530265\n",
      "Iteration 14: function value = 12.726780043157405, z = 31.13412895276081\n",
      "Iteration 15: function value = 12.764992870631954, z = 31.2257642450649\n",
      "Iteration 16: function value = 13.92669085329897, z = 31.273633833007768\n",
      "Iteration 17: function value = 14.886249704511714, z = 31.27904834707301\n",
      "Iteration 18: function value = 14.075571756182788, z = 31.320647618044788\n",
      "Iteration 19: function value = 14.094291428120181, z = 31.36140450377938\n",
      "Iteration 20: function value = 13.109067082579767, z = 31.440445499727545\n",
      "Iteration 21: function value = 14.022438692878469, z = 31.484044734025165\n",
      "Iteration 22: function value = 13.160330698822476, z = 31.560942910814386\n",
      "Iteration 23: function value = 13.318717908363691, z = 31.631893015081438\n",
      "Iteration 24: function value = 14.61393457296754, z = 31.649729237810337\n",
      "Iteration 25: function value = 13.48278465530728, z = 31.71436261149425\n",
      "Iteration 26: function value = 13.827462098611447, z = 31.76548526399479\n",
      "Iteration 27: function value = 12.960317987709821, z = 31.84870429009623\n",
      "Iteration 28: function value = 13.312758393260179, z = 31.919230989257954\n",
      "Iteration 29: function value = 14.427492407144555, z = 31.94510833245502\n",
      "Iteration 30: function value = 14.247518316274913, z = 31.97866901554916\n",
      "Iteration 31: function value = 14.198529042903777, z = 32.01425432604423\n",
      "Iteration 32: function value = 14.278357429415744, z = 32.04643958469229\n",
      "Iteration 33: function value = 13.77996902141767, z = 32.09890091677133\n",
      "Iteration 34: function value = 14.5087032143807, z = 32.12110753148132\n",
      "Iteration 35: function value = 13.29813851803328, z = 32.191564596834745\n",
      "Iteration 36: function value = 14.614970326962966, z = 32.20904494399063\n",
      "Iteration 37: function value = 13.012454157372153, z = 32.289341796032794\n",
      "Iteration 38: function value = 14.271889073846543, z = 32.321524298968775\n",
      "Iteration 39: function value = 12.217536185010214, z = 32.42670143117539\n",
      "Iteration 40: function value = 15.175696269790082, z = 32.41847884574921\n",
      "Iteration 41: function value = 15.62570680365121, z = 32.38831977781322\n",
      "Iteration 42: function value = 12.955327911125279, z = 32.47010666136821\n",
      "Iteration 43: function value = 14.027086077711036, z = 32.5121365428111\n",
      "Iteration 44: function value = 14.045242986494443, z = 32.55338204579454\n",
      "Iteration 45: function value = 13.411993402867404, z = 32.618807917596406\n",
      "Iteration 46: function value = 13.765136941225652, z = 32.67091913867668\n",
      "Iteration 47: function value = 14.701913612404427, z = 32.68433302611848\n",
      "Iteration 48: function value = 14.31573786543984, z = 32.71430370761222\n",
      "Iteration 49: function value = 14.263436416518893, z = 32.746417879852\n",
      "Iteration 50: function value = 14.342931031375127, z = 32.77519750067776\n",
      "Iteration 51: function value = 13.896683740287342, z = 32.82197811008958\n",
      "Iteration 52: function value = 14.572958280879817, z = 32.84093876241852\n",
      "Iteration 53: function value = 15.500923095861575, z = 32.81729519229385\n",
      "Iteration 54: function value = 13.192552667302195, z = 32.8899545750683\n",
      "Iteration 55: function value = 14.471580013030035, z = 32.91320505449498\n",
      "Iteration 56: function value = 13.428587662233937, z = 32.977318677875836\n",
      "Iteration 57: function value = 13.850473844707816, z = 33.025598776398105\n",
      "Iteration 58: function value = 14.002853881192857, z = 33.067877771835526\n",
      "Iteration 59: function value = 14.880544997326028, z = 33.07325324695586\n",
      "Iteration 60: function value = 14.618377935154449, z = 33.09012094222203\n",
      "Iteration 61: function value = 13.169868135004306, z = 33.16296019044886\n",
      "Iteration 62: function value = 14.459050643035665, z = 33.1865455824125\n",
      "Iteration 63: function value = 14.203841509272605, z = 33.22062116581563\n",
      "Iteration 64: function value = 13.4875721933212, z = 33.28202573476679\n",
      "Iteration 65: function value = 13.91188675713248, z = 33.32750886831865\n",
      "Iteration 66: function value = 13.597623618273975, z = 33.38472582469308\n",
      "Iteration 67: function value = 15.75759058925521, z = 33.34896754888023\n",
      "Iteration 68: function value = 14.540149851311746, z = 33.36901701536304\n",
      "Iteration 69: function value = 12.746964499868708, z = 33.45508297146806\n",
      "Iteration 70: function value = 13.382033188587227, z = 33.519801643924566\n",
      "Iteration 71: function value = 13.541999864145495, z = 33.578704849413086\n",
      "Iteration 72: function value = 13.565796759162872, z = 33.636646660342905\n",
      "Iteration 73: function value = 13.858298424061331, z = 33.68368476527158\n",
      "Iteration 74: function value = 15.561862361555402, z = 33.657726724167716\n",
      "Iteration 75: function value = 14.809399758633733, z = 33.666113134787835\n",
      "Iteration 76: function value = 14.476428647958837, z = 33.6886267029256\n",
      "Iteration 77: function value = 15.2946365231283, z = 33.67525020477558\n",
      "Iteration 78: function value = 14.480357588053542, z = 33.69759482848928\n",
      "Iteration 79: function value = 13.6812235003666, z = 33.7511371543744\n",
      "Iteration 80: function value = 15.32301626808591, z = 33.736472215803296\n",
      "Iteration 81: function value = 13.224697108594917, z = 33.806064089146375\n",
      "Iteration 82: function value = 15.145116711937538, z = 33.79956286045157\n",
      "Iteration 83: function value = 14.871807658598645, z = 33.80520332347323\n",
      "Iteration 84: function value = 14.401016615799628, z = 33.83072001564017\n",
      "Iteration 85: function value = 13.464626566224819, z = 33.89182787830442\n",
      "Iteration 86: function value = 14.302351364644544, z = 33.92126865071642\n",
      "Iteration 87: function value = 14.246932833300843, z = 33.95289747171778\n",
      "Iteration 88: function value = 14.803463297668934, z = 33.96146647193942\n",
      "Iteration 89: function value = 14.467584717046153, z = 33.98414736299325\n",
      "Optimal parameters: 33.9862142700457\n"
     ]
    }
   ],
   "source": [
    "def gradient_descent(target, learning_rate, num_iterations):\n",
    "    # Initialize parameters\n",
    "    z = 30 # start with 10 celcius\n",
    "    \n",
    "    for i in range(num_iterations):\n",
    "        # Compute the function value and gradient\n",
    "        function_value, gradient = solve(x = 1/4,y = 1/4, z=z, eps = 1e-4,max_iters = 500)\n",
    "        gradient_of_loss_funct = -2*gradient*(target - function_value)\n",
    "        # Update parameters\n",
    "        z = z - learning_rate * gradient_of_loss_funct\n",
    "\n",
    "        if jnp.abs(function_value-target)<0.1:\n",
    "            return z\n",
    "        \n",
    "        # Optionally print progress\n",
    "        print(f\"Iteration {i+1}: function value = {function_value}, z = {z}\")\n",
    "    \n",
    "    return z\n",
    "    \n",
    "\n",
    "target = 15 # Starting point\n",
    "learning_rate = 0.05\n",
    "num_iterations = 100\n",
    "\n",
    "optimal_val = gradient_descent(target, learning_rate, num_iterations)\n",
    "print(f\"Optimal parameters: {optimal_val}\")\n"
   ]
  },
  {
   "cell_type": "code",
   "execution_count": 68,
   "metadata": {},
   "outputs": [
    {
     "name": "stdout",
     "output_type": "stream",
     "text": [
      "[14.41006399999997, 0.424]\n"
     ]
    }
   ],
   "source": [
    "print(solve(z =33.986))"
   ]
  }
 ],
 "metadata": {
  "kernelspec": {
   "display_name": "su2024",
   "language": "python",
   "name": "python3"
  },
  "language_info": {
   "codemirror_mode": {
    "name": "ipython",
    "version": 3
   },
   "file_extension": ".py",
   "mimetype": "text/x-python",
   "name": "python",
   "nbconvert_exporter": "python",
   "pygments_lexer": "ipython3",
   "version": "3.12.3"
  }
 },
 "nbformat": 4,
 "nbformat_minor": 2
}
